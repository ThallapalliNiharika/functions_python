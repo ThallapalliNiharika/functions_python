{
 "cells": [
  {
   "cell_type": "code",
   "execution_count": 1,
   "id": "b174075e",
   "metadata": {},
   "outputs": [],
   "source": [
    "def test():\n",
    "    a = 4 * 5\n",
    "    b = 6 + 4\n",
    "    return a, b"
   ]
  },
  {
   "cell_type": "code",
   "execution_count": 2,
   "id": "f0e81d8d",
   "metadata": {},
   "outputs": [],
   "source": [
    "g = test()"
   ]
  },
  {
   "cell_type": "code",
   "execution_count": 3,
   "id": "69e8de42",
   "metadata": {},
   "outputs": [
    {
     "data": {
      "text/plain": [
       "(20, 10)"
      ]
     },
     "execution_count": 3,
     "metadata": {},
     "output_type": "execute_result"
    }
   ],
   "source": [
    "g"
   ]
  },
  {
   "cell_type": "code",
   "execution_count": 4,
   "id": "1a269ac0",
   "metadata": {},
   "outputs": [],
   "source": [
    "a, b = test()"
   ]
  },
  {
   "cell_type": "code",
   "execution_count": 5,
   "id": "e42f20c5",
   "metadata": {},
   "outputs": [
    {
     "data": {
      "text/plain": [
       "20"
      ]
     },
     "execution_count": 5,
     "metadata": {},
     "output_type": "execute_result"
    }
   ],
   "source": [
    "a"
   ]
  },
  {
   "cell_type": "code",
   "execution_count": 6,
   "id": "284631c2",
   "metadata": {},
   "outputs": [
    {
     "data": {
      "text/plain": [
       "10"
      ]
     },
     "execution_count": 6,
     "metadata": {},
     "output_type": "execute_result"
    }
   ],
   "source": [
    "b"
   ]
  },
  {
   "cell_type": "code",
   "execution_count": 7,
   "id": "4aa36dba",
   "metadata": {},
   "outputs": [],
   "source": [
    "_,b = test()"
   ]
  },
  {
   "cell_type": "code",
   "execution_count": 8,
   "id": "e9e1e269",
   "metadata": {},
   "outputs": [
    {
     "data": {
      "text/plain": [
       "10"
      ]
     },
     "execution_count": 8,
     "metadata": {},
     "output_type": "execute_result"
    }
   ],
   "source": [
    "b"
   ]
  },
  {
   "cell_type": "code",
   "execution_count": 9,
   "id": "ba17062d",
   "metadata": {},
   "outputs": [
    {
     "data": {
      "text/plain": [
       "20"
      ]
     },
     "execution_count": 9,
     "metadata": {},
     "output_type": "execute_result"
    }
   ],
   "source": [
    "_"
   ]
  },
  {
   "cell_type": "code",
   "execution_count": 15,
   "id": "073c3812",
   "metadata": {},
   "outputs": [],
   "source": [
    "def test1(a,b):\n",
    "    #a = 1\n",
    "    #b = 10\n",
    "    return a + b "
   ]
  },
  {
   "cell_type": "code",
   "execution_count": 17,
   "id": "31f9cc96",
   "metadata": {},
   "outputs": [
    {
     "data": {
      "text/plain": [
       "9"
      ]
     },
     "execution_count": 17,
     "metadata": {},
     "output_type": "execute_result"
    }
   ],
   "source": [
    "test1(3,6)"
   ]
  },
  {
   "cell_type": "code",
   "execution_count": 18,
   "id": "fb7680bb",
   "metadata": {},
   "outputs": [
    {
     "data": {
      "text/plain": [
       "5"
      ]
     },
     "execution_count": 18,
     "metadata": {},
     "output_type": "execute_result"
    }
   ],
   "source": [
    "test1(5,0)"
   ]
  },
  {
   "cell_type": "code",
   "execution_count": 4,
   "id": "3f35be83",
   "metadata": {},
   "outputs": [],
   "source": [
    "l = [3,4,5,6,7, \"Niha\"]\n",
    "def test2():\n",
    "    l1 = []\n",
    "    for i in l:\n",
    "        if(type(i)==int):\n",
    "            l1.append(i)\n",
    "    return l1"
   ]
  },
  {
   "cell_type": "code",
   "execution_count": 5,
   "id": "ff03542b",
   "metadata": {},
   "outputs": [
    {
     "data": {
      "text/plain": [
       "[3, 4, 5, 6, 7]"
      ]
     },
     "execution_count": 5,
     "metadata": {},
     "output_type": "execute_result"
    }
   ],
   "source": [
    "test2()"
   ]
  },
  {
   "cell_type": "code",
   "execution_count": 6,
   "id": "4205dea7",
   "metadata": {},
   "outputs": [
    {
     "ename": "NameError",
     "evalue": "name 'add' is not defined",
     "output_type": "error",
     "traceback": [
      "\u001b[1;31m---------------------------------------------------------------------------\u001b[0m",
      "\u001b[1;31mNameError\u001b[0m                                 Traceback (most recent call last)",
      "Input \u001b[1;32mIn [6]\u001b[0m, in \u001b[0;36m<cell line: 1>\u001b[1;34m()\u001b[0m\n\u001b[1;32m----> 1\u001b[0m \u001b[43madd\u001b[49m(\u001b[38;5;241m2\u001b[39m,\u001b[38;5;241m3\u001b[39m,\u001b[38;5;241m4\u001b[39m)\n",
      "\u001b[1;31mNameError\u001b[0m: name 'add' is not defined"
     ]
    }
   ],
   "source": [
    "add(2,3,4)"
   ]
  },
  {
   "cell_type": "code",
   "execution_count": 11,
   "id": "41b1c358",
   "metadata": {},
   "outputs": [],
   "source": [
    "def test3(*a):\n",
    "    return a"
   ]
  },
  {
   "cell_type": "code",
   "execution_count": 12,
   "id": "015d6ecd",
   "metadata": {},
   "outputs": [
    {
     "data": {
      "text/plain": [
       "(2, 3, 4)"
      ]
     },
     "execution_count": 12,
     "metadata": {},
     "output_type": "execute_result"
    }
   ],
   "source": [
    "test3(2,3,4)"
   ]
  },
  {
   "cell_type": "code",
   "execution_count": 13,
   "id": "d1e724c3",
   "metadata": {},
   "outputs": [],
   "source": [
    "def test3(*a,b,c):\n",
    "    return a"
   ]
  },
  {
   "cell_type": "code",
   "execution_count": 15,
   "id": "2c8f1300",
   "metadata": {},
   "outputs": [
    {
     "data": {
      "text/plain": [
       "(1, 6, 8)"
      ]
     },
     "execution_count": 15,
     "metadata": {},
     "output_type": "execute_result"
    }
   ],
   "source": [
    "test3(1,6,8,b=3,c=4)"
   ]
  },
  {
   "cell_type": "code",
   "execution_count": 16,
   "id": "d4c9bdeb",
   "metadata": {},
   "outputs": [],
   "source": [
    "def test3(b,c,d,*a):\n",
    "    return b, c, d, a"
   ]
  },
  {
   "cell_type": "code",
   "execution_count": 17,
   "id": "cfd92a4c",
   "metadata": {},
   "outputs": [
    {
     "data": {
      "text/plain": [
       "(2, 2, 2, (9, 0, 9, 0))"
      ]
     },
     "execution_count": 17,
     "metadata": {},
     "output_type": "execute_result"
    }
   ],
   "source": [
    "test3(2,2,2,9,0,9,0)"
   ]
  },
  {
   "cell_type": "code",
   "execution_count": 18,
   "id": "b52834ba",
   "metadata": {},
   "outputs": [],
   "source": [
    "def test4(**a):\n",
    "    return a"
   ]
  },
  {
   "cell_type": "code",
   "execution_count": 22,
   "id": "482fdc24",
   "metadata": {},
   "outputs": [
    {
     "data": {
      "text/plain": [
       "{'name': 'niha', 'stream': 'sec_1'}"
      ]
     },
     "execution_count": 22,
     "metadata": {},
     "output_type": "execute_result"
    }
   ],
   "source": [
    "test4(name = \"niha\", stream = \"sec_1\")"
   ]
  },
  {
   "cell_type": "code",
   "execution_count": 1,
   "id": "76640deb",
   "metadata": {},
   "outputs": [],
   "source": [
    "def test4(*a, **b):\n",
    "    return a,b"
   ]
  },
  {
   "cell_type": "code",
   "execution_count": 2,
   "id": "28693b41",
   "metadata": {},
   "outputs": [
    {
     "data": {
      "text/plain": [
       "((1, 2, 3, 'niha'), {'name': 'niharika', 'stream': 'cse'})"
      ]
     },
     "execution_count": 2,
     "metadata": {},
     "output_type": "execute_result"
    }
   ],
   "source": [
    "test4(1,2,3,\"niha\", name = \"niharika\", stream = \"cse\")"
   ]
  },
  {
   "cell_type": "code",
   "execution_count": 3,
   "id": "3a651909",
   "metadata": {},
   "outputs": [],
   "source": [
    "n = lambda a,b : a + b"
   ]
  },
  {
   "cell_type": "code",
   "execution_count": 4,
   "id": "4c7cd1c3",
   "metadata": {},
   "outputs": [
    {
     "data": {
      "text/plain": [
       "9"
      ]
     },
     "execution_count": 4,
     "metadata": {},
     "output_type": "execute_result"
    }
   ],
   "source": [
    "n(2,7)"
   ]
  },
  {
   "cell_type": "code",
   "execution_count": 30,
   "id": "b8c6bb65",
   "metadata": {},
   "outputs": [],
   "source": [
    "m = lambda a, b : a * b"
   ]
  },
  {
   "cell_type": "code",
   "execution_count": 31,
   "id": "95ff22ad",
   "metadata": {},
   "outputs": [
    {
     "data": {
      "text/plain": [
       "21"
      ]
     },
     "execution_count": 31,
     "metadata": {},
     "output_type": "execute_result"
    }
   ],
   "source": [
    "m(3,7)"
   ]
  },
  {
   "cell_type": "code",
   "execution_count": 32,
   "id": "2211cd6a",
   "metadata": {},
   "outputs": [],
   "source": [
    "b = lambda *a : a"
   ]
  },
  {
   "cell_type": "code",
   "execution_count": 33,
   "id": "45fa1e96",
   "metadata": {},
   "outputs": [
    {
     "data": {
      "text/plain": [
       "(1, 2, 3, 0)"
      ]
     },
     "execution_count": 33,
     "metadata": {},
     "output_type": "execute_result"
    }
   ],
   "source": [
    "b(1,2,3,0)"
   ]
  },
  {
   "cell_type": "code",
   "execution_count": 34,
   "id": "a9b365fc",
   "metadata": {},
   "outputs": [],
   "source": [
    "t = (1,2,3,40)\n",
    "l = []\n",
    "for i in t:\n",
    "    l.append(i)"
   ]
  },
  {
   "cell_type": "code",
   "execution_count": 35,
   "id": "aade5d18",
   "metadata": {},
   "outputs": [
    {
     "data": {
      "text/plain": [
       "[1, 2, 3, 40]"
      ]
     },
     "execution_count": 35,
     "metadata": {},
     "output_type": "execute_result"
    }
   ],
   "source": [
    "l"
   ]
  },
  {
   "cell_type": "code",
   "execution_count": 36,
   "id": "0339a0a4",
   "metadata": {},
   "outputs": [
    {
     "data": {
      "text/plain": [
       "(1, 2, 3, 40)"
      ]
     },
     "execution_count": 36,
     "metadata": {},
     "output_type": "execute_result"
    }
   ],
   "source": [
    "t"
   ]
  },
  {
   "cell_type": "code",
   "execution_count": 37,
   "id": "64d4739d",
   "metadata": {},
   "outputs": [
    {
     "data": {
      "text/plain": [
       "[1, 2, 3, 40]"
      ]
     },
     "execution_count": 37,
     "metadata": {},
     "output_type": "execute_result"
    }
   ],
   "source": [
    "[i for i in t ]"
   ]
  },
  {
   "cell_type": "code",
   "execution_count": 38,
   "id": "6892d502",
   "metadata": {},
   "outputs": [],
   "source": [
    "s = \"niharika\""
   ]
  },
  {
   "cell_type": "code",
   "execution_count": 39,
   "id": "87691a24",
   "metadata": {},
   "outputs": [
    {
     "data": {
      "text/plain": [
       "['n', 'i', 'h', 'a', 'r', 'i', 'k', 'a']"
      ]
     },
     "execution_count": 39,
     "metadata": {},
     "output_type": "execute_result"
    }
   ],
   "source": [
    "[i for i in s]"
   ]
  },
  {
   "cell_type": "code",
   "execution_count": 44,
   "id": "c496e0c1",
   "metadata": {},
   "outputs": [],
   "source": [
    "l=[]\n",
    "for i in range(1,11):\n",
    "    l.append(i*i)"
   ]
  },
  {
   "cell_type": "code",
   "execution_count": 45,
   "id": "c86606b8",
   "metadata": {},
   "outputs": [
    {
     "data": {
      "text/plain": [
       "[1, 4, 9, 16, 25, 36, 49, 64, 81, 100]"
      ]
     },
     "execution_count": 45,
     "metadata": {},
     "output_type": "execute_result"
    }
   ],
   "source": [
    "l"
   ]
  },
  {
   "cell_type": "code",
   "execution_count": 47,
   "id": "023b3f4a",
   "metadata": {},
   "outputs": [
    {
     "data": {
      "text/plain": [
       "[0, 1, 4, 9, 16, 25, 36, 49, 64, 81, 100]"
      ]
     },
     "execution_count": 47,
     "metadata": {},
     "output_type": "execute_result"
    }
   ],
   "source": [
    "[i**2 for i in range(11)]"
   ]
  },
  {
   "cell_type": "code",
   "execution_count": 50,
   "id": "b627b10e",
   "metadata": {},
   "outputs": [],
   "source": [
    "n =lambda *a : [i**2 for i in a]"
   ]
  },
  {
   "cell_type": "code",
   "execution_count": 51,
   "id": "8d3ef072",
   "metadata": {},
   "outputs": [
    {
     "data": {
      "text/plain": [
       "[4, 16, 36]"
      ]
     },
     "execution_count": 51,
     "metadata": {},
     "output_type": "execute_result"
    }
   ],
   "source": [
    "n(2,4,6)"
   ]
  },
  {
   "cell_type": "code",
   "execution_count": 58,
   "id": "15e77b79",
   "metadata": {},
   "outputs": [],
   "source": [
    "def test3(**a):\n",
    "    ct=0\n",
    "    for i in a.values():\n",
    "        if type(i)==str:\n",
    "            ct=ct+1\n",
    "    return ct"
   ]
  },
  {
   "cell_type": "code",
   "execution_count": 59,
   "id": "3a21aacf",
   "metadata": {},
   "outputs": [
    {
     "data": {
      "text/plain": [
       "1"
      ]
     },
     "execution_count": 59,
     "metadata": {},
     "output_type": "execute_result"
    }
   ],
   "source": [
    "test3(a= \"niha\", b = 0)"
   ]
  },
  {
   "cell_type": "code",
   "execution_count": 5,
   "id": "054585d6",
   "metadata": {},
   "outputs": [],
   "source": [
    "l = lambda **a : [i for i in a.values()] "
   ]
  },
  {
   "cell_type": "code",
   "execution_count": 6,
   "id": "bacd629e",
   "metadata": {},
   "outputs": [
    {
     "data": {
      "text/plain": [
       "['niha', 0]"
      ]
     },
     "execution_count": 6,
     "metadata": {},
     "output_type": "execute_result"
    }
   ],
   "source": [
    "l(a = \"niha\", b = 0)"
   ]
  },
  {
   "cell_type": "code",
   "execution_count": null,
   "id": "6dc7dfe7",
   "metadata": {},
   "outputs": [],
   "source": []
  }
 ],
 "metadata": {
  "kernelspec": {
   "display_name": "Python 3 (ipykernel)",
   "language": "python",
   "name": "python3"
  },
  "language_info": {
   "codemirror_mode": {
    "name": "ipython",
    "version": 3
   },
   "file_extension": ".py",
   "mimetype": "text/x-python",
   "name": "python",
   "nbconvert_exporter": "python",
   "pygments_lexer": "ipython3",
   "version": "3.10.1"
  }
 },
 "nbformat": 4,
 "nbformat_minor": 5
}
